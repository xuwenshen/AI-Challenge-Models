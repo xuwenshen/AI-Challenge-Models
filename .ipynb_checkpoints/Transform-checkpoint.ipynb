{
 "cells": [
  {
   "cell_type": "code",
   "execution_count": 4,
   "metadata": {
    "collapsed": true
   },
   "outputs": [],
   "source": [
    "import numpy as np \n",
    "from tqdm import *\n",
    "import torch\n",
    "from torch import nn\n",
    "from torch import autograd\n",
    "from torch.autograd import Variable\n",
    "import torch.nn.functional as F\n",
    "import numpy as np\n",
    "import json\n",
    "import random\n",
    "import h5py\n",
    "import sys, os\n",
    "from collections import defaultdict\n",
    "import nltk\n",
    "import string\n",
    "\n",
    "\n",
    "def revers_dic(dic):\n",
    "    \n",
    "    rdic = defaultdict()\n",
    "    for (k,v) in dic.items():\n",
    "        rdic[v] = k\n",
    "    rdic = dict(rdic)\n",
    "    return rdic\n",
    "        \n",
    "    \n",
    "class Transform:\n",
    "    \n",
    "    def __init__(self, zh_voc_path, en_voc_path):\n",
    "        \n",
    "        self.zh_voc = json.load(open(zh_voc_path))\n",
    "        self.en_voc = json.load(open(en_voc_path))\n",
    "        self.zh_rvoc = revers_dic(self.zh_voc)\n",
    "        self.en_rvoc = revers_dic(self.en_voc)\n",
    "        \n",
    "        self.zh_go_id = self.zh_voc['go#']\n",
    "        self.zh_eos_id = self.zh_voc['eos#']\n",
    "        self.zh_pad_id = self.zh_voc['pad#']\n",
    "        self.zh_nuk_id = self.zh_voc['nuk#']\n",
    "        \n",
    "        \n",
    "        self.en_go_id = self.en_voc['go#']\n",
    "        self.en_eos_id = self.en_voc['eos#']\n",
    "        self.en_pad_id = self.en_voc['pad#']\n",
    "        self.en_nuk_id = self.en_voc['nuk#']\n",
    "        \n",
    "        \n",
    "        self.go = 'go#'\n",
    "        self.eos = 'eos#'\n",
    "        self.pad = 'pad#'\n",
    "        self.nuk = 'nuk#'\n",
    "        \n",
    "\n",
    "    def clip(self, lst, language):\n",
    "        \n",
    "        assert language == 'en' or language == 'zh'\n",
    "        ids = []\n",
    "        \n",
    "        if language == 'en':\n",
    "            start = 0\n",
    "            for i in range(len(lst)):\n",
    "                if lst[i] == self.en_pad_id:\n",
    "                    start += 1\n",
    "                    continue\n",
    "            ids = lst[start:]\n",
    "        \n",
    "        else:\n",
    "            \n",
    "            start = 0\n",
    "            for i in range(len(lst)):\n",
    "                if lst[i] == self.zh_pad_id:\n",
    "                    start += 1\n",
    "                    continue\n",
    "            ids = lst[start:]\n",
    "            \n",
    "        \n",
    "        return ids\n",
    "            \n",
    "        \n",
    "        \n",
    "    def i2t(self, lst, language):\n",
    "        \n",
    "        assert language == 'en' or language == 'zh'\n",
    " \n",
    "        text = ''\n",
    "        \n",
    "        if language == 'en':\n",
    "   \n",
    "            for i in range(len(lst)):\n",
    "                \n",
    "                token = self.en_rvoc[lst[i]]\n",
    "                if token in string.punctuation:\n",
    "                    text += self.en_rvoc[lst[i]]\n",
    "                else:\n",
    "                    text += ' ' + self.en_rvoc[lst[i]]\n",
    "                \n",
    "            text = text.lstrip(' ')\n",
    "        \n",
    "        else:\n",
    "\n",
    "            for i in range(len(lst)):\n",
    "                text += self.zh_rvoc[lst[i]]\n",
    "            \n",
    "        \n",
    "        return text"
   ]
  },
  {
   "cell_type": "code",
   "execution_count": 6,
   "metadata": {
    "collapsed": false
   },
   "outputs": [
    {
     "data": {
      "text/plain": [
       "4002"
      ]
     },
     "execution_count": 6,
     "metadata": {},
     "output_type": "execute_result"
    }
   ],
   "source": [
    "en_voc_path = '/data/xuwenshen/ai_challenge/data/train/train/en_voc.json'\n",
    "zh_voc_path = '/data/xuwenshen/ai_challenge/data/train/train/zh_voc.json'\n",
    "transform = Transform(en_voc_path=en_voc_path,\n",
    "                     zh_voc_path=zh_voc_path)\n",
    "transform.zh_pad_id"
   ]
  },
  {
   "cell_type": "code",
   "execution_count": null,
   "metadata": {
    "collapsed": true
   },
   "outputs": [],
   "source": []
  }
 ],
 "metadata": {
  "anaconda-cloud": {},
  "kernelspec": {
   "display_name": "Python [default]",
   "language": "python",
   "name": "python3"
  },
  "language_info": {
   "codemirror_mode": {
    "name": "ipython",
    "version": 3
   },
   "file_extension": ".py",
   "mimetype": "text/x-python",
   "name": "python",
   "nbconvert_exporter": "python",
   "pygments_lexer": "ipython3",
   "version": "3.5.2"
  }
 },
 "nbformat": 4,
 "nbformat_minor": 1
}
