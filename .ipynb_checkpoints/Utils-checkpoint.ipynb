{
 "cells": [
  {
   "cell_type": "code",
   "execution_count": null,
   "metadata": {
    "collapsed": true
   },
   "outputs": [],
   "source": [
    "import numpy as np \n",
    "from tqdm import *\n",
    "import torch\n",
    "from torch import nn\n",
    "from torch import autograd\n",
    "from torch.autograd import Variable\n",
    "import torch.nn.functional as F\n",
    "import numpy as np\n",
    "import json\n",
    "import random\n",
    "import h5py\n",
    "\n",
    "class Utils:\n",
    "    \n",
    "    def __init__(self, batch_size, nb_samples, en_path, is_test, zh_path = None):\n",
    "        \n",
    "        self.current_batch = 0\n",
    "        self.batch_size = batch_size\n",
    "        self.nb_samples = nb_samples\n",
    "        self.en_file = h5py.File(en_path)\n",
    "        self.zh_file = h5py.File(zh_path)\n",
    "        self.is_test = is_test\n",
    "        self.shuffled_id = np.arange(nb_samples)\n",
    "        random.shuffle(self.shuffled_id)\n",
    "        \n",
    "        \n",
    "    def next_batch(self):\n",
    "        \n",
    "        start = self.current_batch * self.batch_size\n",
    "        end = min(start+self.batch_size, self.nb_samples)\n",
    "        self.current_batch += 1 \n",
    "        \n",
    "        ids = self.shuffled_id[start:end]\n",
    "        ids = sorted(ids)\n",
    "        \n",
    "  \n",
    "        is_again = False\n",
    "        if end == self.nb_samples:\n",
    "            is_again = True\n",
    "            random.shuffle(self.shuffled_id)\n",
    "            self.current_batch = 0\n",
    "        \n",
    "        entext = self.en_file['en'][ids]\n",
    "        enlen = self.en_file['length'][ids]\n",
    "        \n",
    "        if self.is_test == True:\n",
    "            return {'entext': entext, 'enlen': enlen, 'flag':is_again}\n",
    "        \n",
    "        \n",
    "        zhlabel = self.zh_file['label'][ids]\n",
    "        zhlen = self.zh_file['length'][ids]\n",
    "        zhgtruth = self.zh_file['ground_truth'][ids]\n",
    "        \n",
    "        return {'entext': entext, 'enlen': enlen, 'zhlabel':zhlabel, 'zhlen':zhlen, 'zhgtruth':zhgtruth, 'flag':is_again}\n",
    "        \n",
    "        "
   ]
  }
 ],
 "metadata": {
  "anaconda-cloud": {},
  "kernelspec": {
   "display_name": "Python [default]",
   "language": "python",
   "name": "python3"
  },
  "language_info": {
   "codemirror_mode": {
    "name": "ipython",
    "version": 3
   },
   "file_extension": ".py",
   "mimetype": "text/x-python",
   "name": "python",
   "nbconvert_exporter": "python",
   "pygments_lexer": "ipython3",
   "version": "3.5.2"
  }
 },
 "nbformat": 4,
 "nbformat_minor": 1
}
