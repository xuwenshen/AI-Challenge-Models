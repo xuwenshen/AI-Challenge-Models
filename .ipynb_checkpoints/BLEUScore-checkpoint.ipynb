{
 "cells": [
  {
   "cell_type": "code",
   "execution_count": 1,
   "metadata": {
    "collapsed": true
   },
   "outputs": [],
   "source": [
    "import numpy as np \n",
    "from tqdm import *\n",
    "import torch\n",
    "from torch import nn\n",
    "from torch import autograd\n",
    "from torch.autograd import Variable\n",
    "import torch.nn.functional as F\n",
    "import numpy as np\n",
    "import json\n",
    "import random\n",
    "import h5py\n",
    "import sys, os\n",
    "import nltk\n",
    "\n",
    "class BLEUScore:\n",
    "    \n",
    "    def score(self, reference, hypothesis):\n",
    "        BLEUscore = 0\n",
    "        for i in range(len(reference)):\n",
    "            BLEUscore += nltk.translate.bleu_score.sentence_bleu([reference[i]], hypothesis[i])\n",
    "        \n",
    "        return BLEUscore / len(hypothesis)"
   ]
  },
  {
   "cell_type": "code",
   "execution_count": null,
   "metadata": {
    "collapsed": true
   },
   "outputs": [],
   "source": []
  }
 ],
 "metadata": {
  "anaconda-cloud": {},
  "kernelspec": {
   "display_name": "Python [default]",
   "language": "python",
   "name": "python3"
  },
  "language_info": {
   "codemirror_mode": {
    "name": "ipython",
    "version": 3
   },
   "file_extension": ".py",
   "mimetype": "text/x-python",
   "name": "python",
   "nbconvert_exporter": "python",
   "pygments_lexer": "ipython3",
   "version": "3.5.2"
  }
 },
 "nbformat": 4,
 "nbformat_minor": 1
}
